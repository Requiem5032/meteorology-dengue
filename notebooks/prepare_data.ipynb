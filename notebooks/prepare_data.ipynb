{
 "cells": [
  {
   "cell_type": "code",
   "execution_count": 1,
   "id": "62de5ffd",
   "metadata": {},
   "outputs": [],
   "source": [
    "import os\n",
    "from os.path import dirname\n",
    "\n",
    "root_dir = dirname(os.getcwd())\n",
    "os.chdir(root_dir)"
   ]
  },
  {
   "cell_type": "code",
   "execution_count": 2,
   "id": "23bed0e1",
   "metadata": {},
   "outputs": [],
   "source": [
    "import pandas as pd"
   ]
  },
  {
   "cell_type": "code",
   "execution_count": 3,
   "id": "e5966e69",
   "metadata": {},
   "outputs": [],
   "source": [
    "# Load dengue cases data\n",
    "cases_df = pd.read_csv('data/data_bello.csv')\n",
    "\n",
    "# Load weather data\n",
    "weather_df = pd.read_csv('data/weather_weekly.csv')\n",
    "\n",
    "# Directly assign cases to weather_df (order and length already match)\n",
    "weather_df['cases'] = cases_df['cases']\n",
    "\n",
    "# Reorder columns as requested\n",
    "final_df = weather_df[['year', 'week', 'cases', 'precipMM', 'tempC']]"
   ]
  },
  {
   "cell_type": "code",
   "execution_count": 4,
   "id": "cf409ba5",
   "metadata": {},
   "outputs": [],
   "source": [
    "# Create a dataframe with cumulative cases instead of weekly cases\n",
    "final_df_cum = final_df.copy()\n",
    "final_df_cum['cases'] = final_df_cum['cases'].cumsum()\n",
    "final_df_cum.to_csv('data/data_bello_cumulative.csv', index=False)"
   ]
  }
 ],
 "metadata": {
  "kernelspec": {
   "display_name": "dengue",
   "language": "python",
   "name": "python3"
  },
  "language_info": {
   "codemirror_mode": {
    "name": "ipython",
    "version": 3
   },
   "file_extension": ".py",
   "mimetype": "text/x-python",
   "name": "python",
   "nbconvert_exporter": "python",
   "pygments_lexer": "ipython3",
   "version": "3.13.5"
  }
 },
 "nbformat": 4,
 "nbformat_minor": 5
}
