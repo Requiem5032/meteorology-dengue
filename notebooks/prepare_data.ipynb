{
 "cells": [
  {
   "cell_type": "code",
   "execution_count": 1,
   "id": "62de5ffd",
   "metadata": {},
   "outputs": [],
   "source": [
    "import os\n",
    "import pandas as pd\n",
    "from os.path import dirname\n",
    "\n",
    "root_dir = dirname(os.getcwd())\n",
    "os.chdir(root_dir)"
   ]
  },
  {
   "cell_type": "code",
   "execution_count": 2,
   "id": "22996371",
   "metadata": {},
   "outputs": [],
   "source": [
    "city = 'bello'\n",
    "data_split = 'projection'"
   ]
  },
  {
   "cell_type": "code",
   "execution_count": 3,
   "id": "e5966e69",
   "metadata": {},
   "outputs": [],
   "source": [
    "cases_df = pd.read_csv(f'data/{data_split}/{city}/epidemic.csv')\n",
    "weather_df = pd.read_csv(f'data/{data_split}/{city}/weather_weekly.csv')\n",
    "weather_df['cases'] = cases_df['CumulativeHumanInfected']\n",
    "\n",
    "final_df = weather_df[['date', 'cases', 'rain_sum', 'temperature_2m_mean']]\n",
    "final_df.to_csv(f'data/{data_split}/{city}/data.csv', index=False)\n",
    "# final_df.drop(final_df.tail(1).index, inplace=True)"
   ]
  }
 ],
 "metadata": {
  "kernelspec": {
   "display_name": "dengue",
   "language": "python",
   "name": "python3"
  },
  "language_info": {
   "codemirror_mode": {
    "name": "ipython",
    "version": 3
   },
   "file_extension": ".py",
   "mimetype": "text/x-python",
   "name": "python",
   "nbconvert_exporter": "python",
   "pygments_lexer": "ipython3",
   "version": "3.13.5"
  }
 },
 "nbformat": 4,
 "nbformat_minor": 5
}
