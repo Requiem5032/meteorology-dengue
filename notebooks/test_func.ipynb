{
 "cells": [
  {
   "cell_type": "code",
   "execution_count": 1,
   "id": "9f373d91",
   "metadata": {},
   "outputs": [],
   "source": [
    "import os\n",
    "import torch\n",
    "import pandas as pd\n",
    "from os.path import dirname\n",
    "\n",
    "root_dir = dirname(os.getcwd())\n",
    "os.chdir(root_dir)"
   ]
  },
  {
   "cell_type": "code",
   "execution_count": 2,
   "id": "7934dd72",
   "metadata": {},
   "outputs": [],
   "source": [
    "from src.utils.data import extract_params, get_learnable_params, get_fixed_params\n",
    "\n",
    "params_yaml_path = 'data/params/bello/params.yaml'\n",
    "params_dict = extract_params(params_yaml_path)"
   ]
  },
  {
   "cell_type": "code",
   "execution_count": 3,
   "id": "a3898e8e",
   "metadata": {},
   "outputs": [
    {
     "data": {
      "text/plain": [
       "{'E_0': None,\n",
       " 'L_0': None,\n",
       " 'P_0': None,\n",
       " 'M_s_0': None,\n",
       " 'M_e_0': None,\n",
       " 'M_i_0': None,\n",
       " 'H_s_0': None,\n",
       " 'H_e_0': None,\n",
       " 'H_i_0': None,\n",
       " 'H_r_0': None,\n",
       " 'C': None,\n",
       " 'sigma': None,\n",
       " 'gamma': None,\n",
       " 'mu_H': tensor(0.0004),\n",
       " 'beta_M': None,\n",
       " 'beta_H': None,\n",
       " 'theta_M': None,\n",
       " 'theta_H': None,\n",
       " 'alpha_b': None,\n",
       " 'alpha_E': None,\n",
       " 'alpha_L': None,\n",
       " 'alpha_P': None,\n",
       " 'a_b': None,\n",
       " 'a_E': None,\n",
       " 'a_L': None,\n",
       " 'a_P': None,\n",
       " 'c_E': None,\n",
       " 'c_L': None,\n",
       " 'c_P': None,\n",
       " 'c_M': None,\n",
       " 'd_E': None,\n",
       " 'd_L': None,\n",
       " 'd_P': None,\n",
       " 'd_M': None,\n",
       " 'T_b_max': tensor(27.),\n",
       " 'T_E_max': tensor(22.),\n",
       " 'T_L_max': tensor(22.),\n",
       " 'T_P_max': tensor(22.),\n",
       " 'T_E_min': tensor(20.),\n",
       " 'T_L_min': tensor(20.),\n",
       " 'T_P_min': tensor(20.),\n",
       " 'T_M_min': tensor(28.),\n",
       " 'R_b': tensor(10.),\n",
       " 'R_E': tensor(15.),\n",
       " 'R_L': tensor(15.),\n",
       " 'R_P': None,\n",
       " 'r_b': None,\n",
       " 'r_E': None,\n",
       " 'r_L': None,\n",
       " 'r_P': None,\n",
       " 's_b': None,\n",
       " 's_E': None,\n",
       " 's_L': None,\n",
       " 's_P': None,\n",
       " 'e_E': None,\n",
       " 'e_L': None,\n",
       " 'e_P': None}"
      ]
     },
     "execution_count": 3,
     "metadata": {},
     "output_type": "execute_result"
    }
   ],
   "source": [
    "params_dict"
   ]
  },
  {
   "cell_type": "code",
   "execution_count": 4,
   "id": "b8343723",
   "metadata": {},
   "outputs": [
    {
     "data": {
      "text/plain": [
       "['E_0',\n",
       " 'L_0',\n",
       " 'P_0',\n",
       " 'M_s_0',\n",
       " 'M_e_0',\n",
       " 'M_i_0',\n",
       " 'H_s_0',\n",
       " 'H_e_0',\n",
       " 'H_i_0',\n",
       " 'H_r_0',\n",
       " 'C',\n",
       " 'sigma',\n",
       " 'gamma',\n",
       " 'beta_M',\n",
       " 'beta_H',\n",
       " 'theta_M',\n",
       " 'theta_H',\n",
       " 'alpha_b',\n",
       " 'alpha_E',\n",
       " 'alpha_L',\n",
       " 'alpha_P',\n",
       " 'a_b',\n",
       " 'a_E',\n",
       " 'a_L',\n",
       " 'a_P',\n",
       " 'c_E',\n",
       " 'c_L',\n",
       " 'c_P',\n",
       " 'c_M',\n",
       " 'd_E',\n",
       " 'd_L',\n",
       " 'd_P',\n",
       " 'd_M',\n",
       " 'R_P',\n",
       " 'r_b',\n",
       " 'r_E',\n",
       " 'r_L',\n",
       " 'r_P',\n",
       " 's_b',\n",
       " 's_E',\n",
       " 's_L',\n",
       " 's_P',\n",
       " 'e_E',\n",
       " 'e_L',\n",
       " 'e_P']"
      ]
     },
     "execution_count": 4,
     "metadata": {},
     "output_type": "execute_result"
    }
   ],
   "source": [
    "get_learnable_params(params_dict)"
   ]
  },
  {
   "cell_type": "code",
   "execution_count": 5,
   "id": "f292d4d2",
   "metadata": {},
   "outputs": [
    {
     "data": {
      "text/plain": [
       "{'mu_H': tensor(0.0004),\n",
       " 'T_b_max': tensor(27.),\n",
       " 'T_E_max': tensor(22.),\n",
       " 'T_L_max': tensor(22.),\n",
       " 'T_P_max': tensor(22.),\n",
       " 'T_E_min': tensor(20.),\n",
       " 'T_L_min': tensor(20.),\n",
       " 'T_P_min': tensor(20.),\n",
       " 'T_M_min': tensor(28.),\n",
       " 'R_b': tensor(10.),\n",
       " 'R_E': tensor(15.),\n",
       " 'R_L': tensor(15.)}"
      ]
     },
     "execution_count": 5,
     "metadata": {},
     "output_type": "execute_result"
    }
   ],
   "source": [
    "get_fixed_params(params_dict)"
   ]
  }
 ],
 "metadata": {
  "kernelspec": {
   "display_name": "dengue",
   "language": "python",
   "name": "python3"
  },
  "language_info": {
   "codemirror_mode": {
    "name": "ipython",
    "version": 3
   },
   "file_extension": ".py",
   "mimetype": "text/x-python",
   "name": "python",
   "nbconvert_exporter": "python",
   "pygments_lexer": "ipython3",
   "version": "3.13.5"
  }
 },
 "nbformat": 4,
 "nbformat_minor": 5
}
