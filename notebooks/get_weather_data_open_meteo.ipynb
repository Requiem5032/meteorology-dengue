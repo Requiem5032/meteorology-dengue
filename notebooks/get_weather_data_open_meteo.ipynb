{
 "cells": [
  {
   "cell_type": "code",
   "execution_count": 1,
   "id": "72320742",
   "metadata": {},
   "outputs": [],
   "source": [
    "import os\n",
    "import pandas as pd\n",
    "from os.path import dirname\n",
    "\n",
    "root_dir = dirname(os.getcwd())\n",
    "os.chdir(root_dir)"
   ]
  },
  {
   "cell_type": "code",
   "execution_count": 2,
   "id": "22ab9261",
   "metadata": {},
   "outputs": [],
   "source": [
    "location = 'sanjuan'\n",
    "data_split = 'calibration'"
   ]
  },
  {
   "cell_type": "code",
   "execution_count": 3,
   "id": "bd053af1",
   "metadata": {},
   "outputs": [],
   "source": [
    "# Bello\n",
    "# \"latitude\": 6.3373,\n",
    "# \"longitude\": -75.558,\n",
    "\n",
    "# Iquitos\n",
    "# \"latitude\": -3.7491,\n",
    "# \"longitude\": -73.2538,\n",
    "\n",
    "# San Juan\n",
    "# \"latitude\": 18.4663,\n",
    "# \"longitude\": -66.1057,"
   ]
  },
  {
   "cell_type": "code",
   "execution_count": 4,
   "id": "4aeed401",
   "metadata": {},
   "outputs": [
    {
     "name": "stdout",
     "output_type": "stream",
     "text": [
      "Coordinates: 18.453426361083984°N -66.13504028320312°E\n",
      "Elevation: 15.0 m asl\n",
      "Timezone: b'America/Puerto_Rico'b'GMT-4'\n",
      "Timezone difference to GMT+0: -14400s\n"
     ]
    }
   ],
   "source": [
    "import openmeteo_requests\n",
    "\n",
    "import pandas as pd\n",
    "import requests_cache\n",
    "from retry_requests import retry\n",
    "\n",
    "# Setup the Open-Meteo API client with cache and retry on error\n",
    "cache_session = requests_cache.CachedSession('.cache', expire_after = -1)\n",
    "retry_session = retry(cache_session, retries = 5, backoff_factor = 0.2)\n",
    "openmeteo = openmeteo_requests.Client(session = retry_session)\n",
    "\n",
    "# Make sure all required weather variables are listed here\n",
    "# The order of variables in hourly or daily is important to assign them correctly below\n",
    "url = \"https://archive-api.open-meteo.com/v1/archive\"\n",
    "params = {\n",
    "\t\"latitude\": 18.4663,\n",
    "\t\"longitude\": -66.1057,\n",
    "\t\"start_date\": \"2000-12-18\",\n",
    "\t\"end_date\": \"2001-11-18\",\n",
    "\t\"daily\": [\"temperature_2m_mean\", \"rain_sum\"],\n",
    "\t\"timezone\": \"auto\",\n",
    "}\n",
    "responses = openmeteo.weather_api(url, params=params)\n",
    "\n",
    "# Process first location. Add a for-loop for multiple locations or weather models\n",
    "response = responses[0]\n",
    "print(f\"Coordinates: {response.Latitude()}°N {response.Longitude()}°E\")\n",
    "print(f\"Elevation: {response.Elevation()} m asl\")\n",
    "print(f\"Timezone: {response.Timezone()}{response.TimezoneAbbreviation()}\")\n",
    "print(f\"Timezone difference to GMT+0: {response.UtcOffsetSeconds()}s\")\n",
    "\n",
    "# Process daily data. The order of variables needs to be the same as requested.\n",
    "daily = response.Daily()\n",
    "daily_temperature_2m_mean = daily.Variables(0).ValuesAsNumpy()\n",
    "daily_rain_sum = daily.Variables(1).ValuesAsNumpy()\n",
    "\n",
    "daily_data = {\"date\": pd.date_range(\n",
    "\tstart = pd.to_datetime(daily.Time(), unit = \"s\", utc = True),\n",
    "\tend = pd.to_datetime(daily.TimeEnd(), unit = \"s\", utc = True),\n",
    "\tfreq = pd.Timedelta(seconds = daily.Interval()),\n",
    "\tinclusive = \"left\"\n",
    ")}\n",
    "\n",
    "daily_data[\"temperature_2m_mean\"] = daily_temperature_2m_mean\n",
    "daily_data[\"rain_sum\"] = daily_rain_sum\n",
    "\n",
    "daily_dataframe = pd.DataFrame(data = daily_data)"
   ]
  },
  {
   "cell_type": "code",
   "execution_count": 5,
   "id": "e5e59769",
   "metadata": {},
   "outputs": [],
   "source": [
    "temp_df = daily_dataframe.copy()\n",
    "temp_df['date'] = pd.to_datetime(temp_df['date'])\n",
    "\n",
    "temp_df = temp_df[['date', 'temperature_2m_mean', 'rain_sum']]\n",
    "\n",
    "for col in ['rain_sum', 'temperature_2m_mean']:\n",
    "    temp_df[col] = pd.to_numeric(temp_df[col], errors='coerce')\n",
    "\n",
    "weekly_df = temp_df.groupby(pd.Grouper(key='date', freq='W')).mean().reset_index()\n",
    "weekly_df.to_csv(f'data/{data_split}/{location}/weather_weekly.csv', index=False)"
   ]
  }
 ],
 "metadata": {
  "kernelspec": {
   "display_name": "dengue",
   "language": "python",
   "name": "python3"
  },
  "language_info": {
   "codemirror_mode": {
    "name": "ipython",
    "version": 3
   },
   "file_extension": ".py",
   "mimetype": "text/x-python",
   "name": "python",
   "nbconvert_exporter": "python",
   "pygments_lexer": "ipython3",
   "version": "3.13.5"
  }
 },
 "nbformat": 4,
 "nbformat_minor": 5
}
