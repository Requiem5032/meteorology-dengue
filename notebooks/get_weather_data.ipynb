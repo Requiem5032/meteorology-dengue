{
 "cells": [
  {
   "cell_type": "code",
   "execution_count": 1,
   "id": "72320742",
   "metadata": {},
   "outputs": [],
   "source": [
    "import os\n",
    "import pandas as pd\n",
    "from os.path import dirname\n",
    "\n",
    "root_dir = dirname(os.getcwd())\n",
    "os.chdir(root_dir)"
   ]
  },
  {
   "cell_type": "code",
   "execution_count": 2,
   "id": "22ab9261",
   "metadata": {},
   "outputs": [],
   "source": [
    "city = 'bello'\n",
    "data_split = 'calibration'"
   ]
  },
  {
   "cell_type": "code",
   "execution_count": 3,
   "id": "8f846728",
   "metadata": {},
   "outputs": [
    {
     "name": "stdout",
     "output_type": "stream",
     "text": [
      "64 weeks to fetch\n"
     ]
    }
   ],
   "source": [
    "import requests\n",
    "from datetime import datetime, timedelta\n",
    "\n",
    "# Helper to get start and end dates for each week in the range\n",
    "def get_week_ranges(start_date, end_date):\n",
    "    week_ranges = []\n",
    "    current = start_date\n",
    "    while current <= end_date:\n",
    "        week_start = current\n",
    "        week_end = week_start + timedelta(days=6)\n",
    "        if week_end > end_date:\n",
    "            week_end = end_date\n",
    "        week_ranges.append((week_start, week_end))\n",
    "        current = week_end + timedelta(days=1)\n",
    "    return week_ranges\n",
    "\n",
    "# Date range for calibration or temporary projection\n",
    "# start_date = datetime.strptime('2014-02-17', '%Y-%m-%d')\n",
    "# end_date = datetime.strptime('2015-01-11', '%Y-%m-%d')\n",
    "\n",
    "# Date range for old calibration\n",
    "start_date = datetime.strptime('2009-11-30', '%Y-%m-%d')\n",
    "end_date = datetime.strptime('2011-02-20', '%Y-%m-%d')\n",
    "\n",
    "# Date range for projection\n",
    "# start_date = datetime.strptime('2006-08-07', '%Y-%m-%d')\n",
    "# end_date = datetime.strptime('2007-07-08', '%Y-%m-%d')\n",
    "\n",
    "week_ranges = get_week_ranges(start_date, end_date)\n",
    "print(len(week_ranges), \"weeks to fetch\")\n",
    "\n",
    "api_key = \"28b65fe3f0b8422683063940250605\"\n",
    "base_url = \"https://api.worldweatheronline.com/premium/v1/past-weather.ashx\"\n",
    "\n",
    "results = []\n",
    "for week_start, week_end in week_ranges:\n",
    "    # API requires enddate to be in the same month and year as date\n",
    "    if week_start.month != week_end.month or week_start.year != week_end.year:\n",
    "        # Split the week if it crosses month boundary\n",
    "        split_end = datetime(week_start.year, week_start.month, 1) + timedelta(days=32)\n",
    "        split_end = split_end.replace(day=1) - timedelta(days=1)\n",
    "        week_ends = [split_end, week_end]\n",
    "        week_starts = [week_start, split_end + timedelta(days=1)]\n",
    "    else:\n",
    "        week_starts = [week_start]\n",
    "        week_ends = [week_end]\n",
    "    for ws, we in zip(week_starts, week_ends):\n",
    "        params = {\n",
    "            'q': 'Bello',\n",
    "            'date': ws.strftime('%Y-%m-%d'),\n",
    "            'enddate': we.strftime('%Y-%m-%d'),\n",
    "            'tp': '24',  # daily data\n",
    "            'format': 'json',\n",
    "            'key': api_key\n",
    "        }\n",
    "        response = requests.get(base_url, params=params)\n",
    "        if response.status_code == 200:\n",
    "            data = response.json()\n",
    "            for day in data['data']['weather']:\n",
    "                results.append({\n",
    "                    'date': day['date'],\n",
    "                    'maxtempC': day['maxtempC'],\n",
    "                    'mintempC': day['mintempC'],\n",
    "                    'totalSnow_cm': day.get('totalSnow_cm'),\n",
    "                    'sunHour': day.get('sunHour'),\n",
    "                    'uvIndex': day.get('uvIndex'),\n",
    "                    'precipMM': day['hourly'][0]['precipMM'],\n",
    "                    'humidity': day['hourly'][0]['humidity'],\n",
    "                    'tempC': day['hourly'][0]['tempC'],\n",
    "                })\n",
    "        else:\n",
    "            print(f\"Failed for week {ws} to {we}\")\n",
    "\n",
    "weather_df = pd.DataFrame(results)\n",
    "weather_df['date'] = pd.to_datetime(weather_df['date'])\n",
    "weather_df.to_csv(f'data/{data_split}/{city}/weather.csv', index=False)"
   ]
  },
  {
   "cell_type": "code",
   "execution_count": 4,
   "id": "e5e59769",
   "metadata": {},
   "outputs": [],
   "source": [
    "temp_df = weather_df.copy()\n",
    "temp_df['date'] = pd.to_datetime(temp_df['date'])\n",
    "\n",
    "temp_df = temp_df[['date', 'precipMM', 'tempC']]\n",
    "\n",
    "for col in ['precipMM', 'tempC']:\n",
    "    temp_df[col] = pd.to_numeric(temp_df[col], errors='coerce')\n",
    "\n",
    "weekly_df = temp_df.groupby(pd.Grouper(key='date', freq='W')).mean().reset_index()\n",
    "weekly_df.to_csv(f'data/{data_split}/{city}/weather_weekly.csv', index=False)"
   ]
  }
 ],
 "metadata": {
  "kernelspec": {
   "display_name": "dengue",
   "language": "python",
   "name": "python3"
  },
  "language_info": {
   "codemirror_mode": {
    "name": "ipython",
    "version": 3
   },
   "file_extension": ".py",
   "mimetype": "text/x-python",
   "name": "python",
   "nbconvert_exporter": "python",
   "pygments_lexer": "ipython3",
   "version": "3.13.5"
  }
 },
 "nbformat": 4,
 "nbformat_minor": 5
}
